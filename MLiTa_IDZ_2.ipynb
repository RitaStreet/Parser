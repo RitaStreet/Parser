{
 "cells": [
  {
   "cell_type": "markdown",
   "id": "bd7c66dc",
   "metadata": {},
   "source": [
    "15. Алгебраические бесскобочные формулы, знаками арифметических операций и именами функций одной переменной, под знаком функции стоят бесскобочные выражения: f(a+b-c)*c-g(a)+f(g(f(a*d+c)))"
   ]
  },
  {
   "cell_type": "markdown",
   "id": "0977c0c3",
   "metadata": {},
   "source": [
    "![title](1.jpg)"
   ]
  },
  {
   "cell_type": "markdown",
   "id": "e49f5d87",
   "metadata": {},
   "source": [
    "![title](2.jpg)"
   ]
  },
  {
   "cell_type": "markdown",
   "id": "25a88790",
   "metadata": {},
   "source": [
    "![title](3.jpg)"
   ]
  },
  {
   "cell_type": "markdown",
   "id": "f359b35e",
   "metadata": {},
   "source": [
    "![title](4.jpg)"
   ]
  },
  {
   "cell_type": "markdown",
   "id": "634d252b",
   "metadata": {},
   "source": [
    "![title](5.jpg)"
   ]
  },
  {
   "cell_type": "markdown",
   "id": "6f032cdb",
   "metadata": {},
   "source": [
    "9) Исходный код на Python"
   ]
  },
  {
   "cell_type": "code",
   "execution_count": 5,
   "id": "e6116371",
   "metadata": {},
   "outputs": [
    {
     "name": "stdout",
     "output_type": "stream",
     "text": [
      "Алгебраические бесскобочные формулы,\n",
      "знаками арифметических операций и именами функций одной переменной\n",
      "Good! - формула верна, Error! - формула не верна\n",
      "Сложный правильный пример: f(a+b-c)*c-g(a)+f(g(f(a*d+c)))\n",
      "Введите свою формулу: \n",
      "f\n",
      "Result: \n",
      "f\n",
      "Good\n",
      "\n",
      "Для продолжения 1, иначе 0\n",
      "0\n"
     ]
    }
   ],
   "source": [
    "class parser:\n",
    "    flag = True\n",
    "    k = 0\n",
    "    ch = ''\n",
    "    s=\"\"\n",
    "    result = \"\"\n",
    "    res = \"Good\"\n",
    "    n = 0\n",
    "    mode = 1\n",
    "    \n",
    "    def go(self):\n",
    "        while(self.mode == 1):\n",
    "            self.outInfo()\n",
    "            self.s = input()\n",
    "            self.n = len(self.s)\n",
    "            self.readNext()\n",
    "            self.result = \"\"\n",
    "            self.BF()\n",
    "\n",
    "            if(self.k <= self.n):\n",
    "                self.flag = False\n",
    "\n",
    "            if(self.flag == False):\n",
    "                self.res = \"Error!\"\n",
    "            if(self.flag):\n",
    "                print(\"Result: \")\n",
    "                print(self.result)\n",
    "            print(self.res)\n",
    "            \n",
    "            print(\"\\nДля продолжения 1, иначе 0\")\n",
    "            self.mode = int(input())\n",
    "        \n",
    "            self.res = \"Good!\"\n",
    "            self.flag = True\n",
    "            self.k = 0\n",
    "        \n",
    "    def readNext(self):\n",
    "        self.result += self.ch;\n",
    "        if(self.k < self.n+1):\n",
    "            if(self.k < self.n):\n",
    "                self.ch = self.s[self.k];\n",
    "        else:\n",
    "            self.flag = False;\n",
    "\n",
    "        self.k += 1;\n",
    "        \n",
    "        \n",
    "    def ALPHABET(self):\n",
    "        if((self.ch <= 'z') and (self.ch >= 'a')):\n",
    "            self.readNext()\n",
    "        else:\n",
    "            self.flag = False\n",
    "            \n",
    "            \n",
    "    def SIGN(self):\n",
    "        if((self.ch == '+') or (self.ch == '-') or (self.ch == '*') or (self.ch == '/')):\n",
    "            self.readNext()\n",
    "        else:\n",
    "            self.flag = False\n",
    "            \n",
    "            \n",
    "    def BF(self):\n",
    "        self.FUNC()\n",
    "        if(self.flag): \n",
    "            self.END1()\n",
    "        \n",
    "        \n",
    "    def END1(self):\n",
    "        if((self.ch == '+') or (self.ch == '-') or (self.ch == '*') or (self.ch == '/')):\n",
    "            self.SIGN();\n",
    "            self.BF();\n",
    "            \n",
    "            \n",
    "    def FUNC(self):\n",
    "        self.ALPHABET()\n",
    "        if(self.flag):\n",
    "            self.END2()\n",
    "            \n",
    "            \n",
    "    def END2(self):\n",
    "        if (self.ch == '('):\n",
    "            self.readNext()\n",
    "            self.BF()\n",
    "            if(self.ch == ')'):\n",
    "                self.readNext()\n",
    "            else:\n",
    "                self.flag = False\n",
    "                \n",
    "                \n",
    "    def outInfo(self):\n",
    "        print(\"Алгебраические бесскобочные формулы,\\nзнаками арифметических операций и именами функций одной переменной\");\n",
    "        print(\"Good! - формула верна, Error! - формула не верна\");\n",
    "        print(\"Сложный правильный пример: f(a+b-c)*c-g(a)+f(g(f(a*d+c)))\");\n",
    "        print(\"Введите свою формулу: \");\n",
    "        \n",
    "        \n",
    "\n",
    "\n",
    "a = parser()\n",
    "a.go()\n"
   ]
  }
 ],
 "metadata": {
  "kernelspec": {
   "display_name": "Python 3",
   "language": "python",
   "name": "python3"
  },
  "language_info": {
   "codemirror_mode": {
    "name": "ipython",
    "version": 3
   },
   "file_extension": ".py",
   "mimetype": "text/x-python",
   "name": "python",
   "nbconvert_exporter": "python",
   "pygments_lexer": "ipython3",
   "version": "3.8.5"
  }
 },
 "nbformat": 4,
 "nbformat_minor": 5
}
